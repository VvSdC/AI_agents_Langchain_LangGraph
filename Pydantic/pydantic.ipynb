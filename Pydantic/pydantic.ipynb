{
 "cells": [
  {
   "cell_type": "markdown",
   "id": "1c3727e3",
   "metadata": {},
   "source": [
    "# Basics of Pydantic\n",
    "\n",
    "Pydantic models are the foundation of data validation in Python. They use python type annotations to define the structure and validate data at runtime."
   ]
  },
  {
   "cell_type": "markdown",
   "id": "8db1ce36",
   "metadata": {},
   "source": [
    "#### Creating and Using Pydantic model\n",
    "\n",
    "Let us explore the basic model creation with several examples"
   ]
  },
  {
   "cell_type": "code",
   "execution_count": 1,
   "id": "c89c6b2d",
   "metadata": {},
   "outputs": [],
   "source": [
    "from pydantic import BaseModel"
   ]
  },
  {
   "cell_type": "code",
   "execution_count": 2,
   "id": "abc7d2f7",
   "metadata": {},
   "outputs": [
    {
     "name": "stdout",
     "output_type": "stream",
     "text": [
      "name='Charan' age=23 city='Hyderabad'\n",
      "<class '__main__.Person'>\n"
     ]
    }
   ],
   "source": [
    "class Person(BaseModel):\n",
    "    name:str\n",
    "    age:int\n",
    "    city:str\n",
    "\n",
    "person = Person(name = \"Charan\",age = 23,city = \"Hyderabad\")\n",
    "print(person)\n",
    "print(type(person))"
   ]
  },
  {
   "cell_type": "markdown",
   "id": "5f6d513b",
   "metadata": {},
   "source": [
    "### Differentiating dataclass and pydantic\n",
    "\n",
    "In dataclass, there is no data validation i.e the property which is defined as string in the class can hold a value of integer when an object is created of that class.\n",
    "\n",
    "But when we use pydantic and the class inherits the BaseModel, data validation occurs, so the property defined as string in the class can only hold string. Giving any other data type value will lead to an error."
   ]
  },
  {
   "cell_type": "code",
   "execution_count": 3,
   "id": "1b9f70e3",
   "metadata": {},
   "outputs": [
    {
     "name": "stdout",
     "output_type": "stream",
     "text": [
      "Person(name='Charan', age='Twenty three', country='India')\n"
     ]
    }
   ],
   "source": [
    "# Using dataclass\n",
    "from dataclasses import dataclass\n",
    "\n",
    "@dataclass\n",
    "class Person():\n",
    "    name:str\n",
    "    age:int\n",
    "    country:str\n",
    "\n",
    "charan = Person(name=\"Charan\",age=\"Twenty three\",country=\"India\")\n",
    "print(charan)"
   ]
  },
  {
   "cell_type": "code",
   "execution_count": 4,
   "id": "97ce5f1d",
   "metadata": {},
   "outputs": [
    {
     "name": "stdout",
     "output_type": "stream",
     "text": [
      "1 validation error for Person\n",
      "age\n",
      "  Input should be a valid integer, unable to parse string as an integer [type=int_parsing, input_value='Twenty three', input_type=str]\n",
      "    For further information visit https://errors.pydantic.dev/2.11/v/int_parsing\n"
     ]
    }
   ],
   "source": [
    "# Using pydantic BaseMode\n",
    "\n",
    "from pydantic import ValidationError\n",
    "\n",
    "class Person(BaseModel):\n",
    "    name:str\n",
    "    age:int\n",
    "    country:str\n",
    "\n",
    "try:\n",
    "    charan = Person(name=\"Charan\",age=\"Twenty three\",country=\"India\")\n",
    "    print(charan)\n",
    "except ValidationError  as e:\n",
    "    print(e)"
   ]
  },
  {
   "cell_type": "markdown",
   "id": "fb113c76",
   "metadata": {},
   "source": [
    "### Model with Optional Fields\n",
    "\n",
    "- Optional[Type] : indicates field that can be None\n",
    "- Default value (=None or =True) : Makes the field optional\n",
    "- Required fields must still be provided\n",
    "- Pydantic even validates data types of optional fields if values are provided."
   ]
  },
  {
   "cell_type": "code",
   "execution_count": 5,
   "id": "2aaffbae",
   "metadata": {},
   "outputs": [],
   "source": [
    "from typing import Optional\n",
    "\n",
    "class Employee(BaseModel):\n",
    "    employee_id:int\n",
    "    name:str\n",
    "    department:str\n",
    "    salary:Optional[float] = None  #Optional with default value as None\n",
    "    is_active:Optional[bool]=True  #Optional with default value as None"
   ]
  },
  {
   "cell_type": "code",
   "execution_count": 6,
   "id": "1dec8610",
   "metadata": {},
   "outputs": [
    {
     "name": "stdout",
     "output_type": "stream",
     "text": [
      "employee_id=244 name='Charan' department='AI' salary=None is_active=True\n"
     ]
    }
   ],
   "source": [
    "# Giving only field that are not optional\n",
    "charan = Employee(name=\"Charan\",employee_id=244,department=\"AI\")\n",
    "print(charan)"
   ]
  },
  {
   "cell_type": "code",
   "execution_count": 7,
   "id": "1663cfe2",
   "metadata": {},
   "outputs": [
    {
     "name": "stdout",
     "output_type": "stream",
     "text": [
      "employee_id=244 name='Charan' department='AI' salary=80000.0 is_active=False\n"
     ]
    }
   ],
   "source": [
    "# Giving all fields\n",
    "charan = Employee(name=\"Charan\",employee_id=244,department=\"AI\",salary=80000.0,is_active=False)\n",
    "print(charan)"
   ]
  },
  {
   "cell_type": "code",
   "execution_count": 8,
   "id": "bb855e5f",
   "metadata": {},
   "outputs": [
    {
     "name": "stdout",
     "output_type": "stream",
     "text": [
      "employee_id=244 name='Charan' department='AI' salary=80000.0 is_active=False\n"
     ]
    }
   ],
   "source": [
    "# Typecasting ability of pydantic\n",
    "charan = Employee(name=\"Charan\",employee_id=244,department=\"AI\",salary=80000,is_active=False)\n",
    "print(charan)"
   ]
  },
  {
   "cell_type": "markdown",
   "id": "915e92a8",
   "metadata": {},
   "source": [
    "### Lists as data type in classes"
   ]
  },
  {
   "cell_type": "code",
   "execution_count": 9,
   "id": "bcbeb79d",
   "metadata": {},
   "outputs": [],
   "source": [
    "from typing import List \n",
    "\n",
    "class Classroom(BaseModel):\n",
    "    room_number:str\n",
    "    students:List[str]\n",
    "    capacity:int"
   ]
  },
  {
   "cell_type": "code",
   "execution_count": 10,
   "id": "c32bdea7",
   "metadata": {},
   "outputs": [
    {
     "name": "stdout",
     "output_type": "stream",
     "text": [
      "room_number='A407' students=['Sachin', 'Sehwag', 'Dravid'] capacity=100\n"
     ]
    }
   ],
   "source": [
    "classroom = Classroom(\n",
    "    room_number=\"A407\",\n",
    "    students=[\"Sachin\",\"Sehwag\",\"Dravid\"],\n",
    "    capacity=100\n",
    ")\n",
    "print(classroom)"
   ]
  },
  {
   "cell_type": "code",
   "execution_count": 11,
   "id": "d7adb2fe",
   "metadata": {},
   "outputs": [
    {
     "name": "stdout",
     "output_type": "stream",
     "text": [
      "room_number='A408' students=['Ponting', 'Hayden', 'Gilchrist'] capacity=50\n"
     ]
    }
   ],
   "source": [
    "# Typecasting ability of Pydantic\n",
    "# Let us give tuple instead of list to understand what happens\n",
    "\n",
    "classroom = Classroom(\n",
    "    room_number=\"A408\",\n",
    "    students=(\"Ponting\",\"Hayden\",\"Gilchrist\"),\n",
    "    capacity=50\n",
    ")\n",
    "print(classroom)"
   ]
  },
  {
   "cell_type": "markdown",
   "id": "0f098f6f",
   "metadata": {},
   "source": [
    "### Complex structures"
   ]
  },
  {
   "cell_type": "code",
   "execution_count": 12,
   "id": "722df679",
   "metadata": {},
   "outputs": [],
   "source": [
    "class Address(BaseModel):\n",
    "    street:str\n",
    "    city:str\n",
    "    zip_code:int\n",
    "\n",
    "class Customer(BaseModel):\n",
    "    customer_id:int\n",
    "    name:str\n",
    "    address:Address"
   ]
  },
  {
   "cell_type": "code",
   "execution_count": 13,
   "id": "d4b2031c",
   "metadata": {},
   "outputs": [
    {
     "name": "stdout",
     "output_type": "stream",
     "text": [
      "customer_id=2 name='Rohit' address=Address(street='Boravali', city='Mumbai', zip_code=500098)\n"
     ]
    }
   ],
   "source": [
    "try:\n",
    "    customer = Customer(\n",
    "        customer_id=2,\n",
    "        name=\"Rohit\",\n",
    "        address={\n",
    "            \"street\":\"Boravali\",\n",
    "            \"city\":\"Mumbai\",\n",
    "            \"zip_code\":500098\n",
    "        }\n",
    "    )\n",
    "    print(customer)\n",
    "except ValueError as e:\n",
    "    print(e)"
   ]
  },
  {
   "cell_type": "code",
   "execution_count": 14,
   "id": "229cff1b",
   "metadata": {},
   "outputs": [
    {
     "name": "stdout",
     "output_type": "stream",
     "text": [
      "customer_id=1 name='Charan' address=Address(street='Neeladri', city='Bangalore', zip_code=560100)\n"
     ]
    }
   ],
   "source": [
    "# Passing string in the place of integer\n",
    "# String will be type-casted into integer by Pydantic\n",
    "# But integer will not be type-casted into string by pydantic\n",
    "\n",
    "customer = Customer(\n",
    "    customer_id=1,\n",
    "    name=\"Charan\",\n",
    "    address={\n",
    "        \"street\":\"Neeladri\",\n",
    "        \"city\":\"Bangalore\",\n",
    "        \"zip_code\":\"560100\"\n",
    "    }\n",
    ")\n",
    "print(customer)"
   ]
  },
  {
   "cell_type": "markdown",
   "id": "f9f90394",
   "metadata": {},
   "source": [
    "### Pydantic fields : Customization and Constraints\n",
    "\n",
    "The field function in Pydantic enhances model fields beyond basic type hints by allowing you to specify validation rules, default values , aliases and more. "
   ]
  },
  {
   "cell_type": "code",
   "execution_count": 15,
   "id": "4f20bef2",
   "metadata": {},
   "outputs": [],
   "source": [
    "from pydantic import Field\n",
    "\n",
    "class Item(BaseModel):\n",
    "    name:str=Field(min_length=2,max_length=50)\n",
    "    price:float=Field(gt=0,le=1000)\n",
    "    quantity:int=Field(ge=0)"
   ]
  },
  {
   "cell_type": "code",
   "execution_count": 16,
   "id": "393046c4",
   "metadata": {},
   "outputs": [
    {
     "name": "stdout",
     "output_type": "stream",
     "text": [
      "name='Book' price=500.0 quantity=2\n"
     ]
    }
   ],
   "source": [
    "item = Item(name=\"Book\",price=500,quantity=2)\n",
    "print(item)"
   ]
  },
  {
   "cell_type": "code",
   "execution_count": 17,
   "id": "fa1c9a65",
   "metadata": {},
   "outputs": [
    {
     "name": "stdout",
     "output_type": "stream",
     "text": [
      "1 validation error for Item\n",
      "price\n",
      "  Input should be greater than 0 [type=greater_than, input_value=-500, input_type=int]\n",
      "    For further information visit https://errors.pydantic.dev/2.11/v/greater_than\n"
     ]
    }
   ],
   "source": [
    "# If something doesn't satisfy constraints\n",
    "\n",
    "try:\n",
    "    item = Item(name=\"Book\",price=-500,quantity=3)\n",
    "    print(item)\n",
    "except ValueError as e:\n",
    "    print(e)"
   ]
  },
  {
   "cell_type": "markdown",
   "id": "60f5d219",
   "metadata": {},
   "source": [
    "### Pydantic fields : Optional and defaults values\n",
    "\n",
    "We can also specify if something is optional inside the Pydantic field, give description to the variable and also give default values"
   ]
  },
  {
   "cell_type": "code",
   "execution_count": 18,
   "id": "0b7092c3",
   "metadata": {},
   "outputs": [],
   "source": [
    "class User(BaseModel):\n",
    "    username:str=Field(...,description=\"Unique username of the user\")\n",
    "    age:int=Field(default=18,description=\"User age, defaults to 18\")\n",
    "    email:str=Field(default_factory=lambda:\"user@example.com\",description=\"Default email address is user@example.com\")"
   ]
  },
  {
   "cell_type": "code",
   "execution_count": 19,
   "id": "8e480d43",
   "metadata": {},
   "outputs": [
    {
     "name": "stdout",
     "output_type": "stream",
     "text": [
      "username='Charan' age=23 email='user@example.com'\n"
     ]
    }
   ],
   "source": [
    "user1 = User(username=\"Charan\",age=23)\n",
    "print(user1)"
   ]
  },
  {
   "cell_type": "code",
   "execution_count": 20,
   "id": "0e92e844",
   "metadata": {},
   "outputs": [
    {
     "name": "stdout",
     "output_type": "stream",
     "text": [
      "username='Rohit' age=38 email='rohit264@gmail.com'\n"
     ]
    }
   ],
   "source": [
    "user2 = User(username=\"Rohit\",age=38,email=\"rohit264@gmail.com\")\n",
    "print(user2)"
   ]
  },
  {
   "cell_type": "code",
   "execution_count": 21,
   "id": "53efdcf9",
   "metadata": {},
   "outputs": [
    {
     "name": "stdout",
     "output_type": "stream",
     "text": [
      "{'properties': {'username': {'description': 'Unique username of the user', 'title': 'Username', 'type': 'string'}, 'age': {'default': 18, 'description': 'User age, defaults to 18', 'title': 'Age', 'type': 'integer'}, 'email': {'description': 'Default email address is user@example.com', 'title': 'Email', 'type': 'string'}}, 'required': ['username'], 'title': 'User', 'type': 'object'}\n"
     ]
    }
   ],
   "source": [
    "# Importance of description\n",
    "\n",
    "print(User.model_json_schema())"
   ]
  }
 ],
 "metadata": {
  "kernelspec": {
   "display_name": "env",
   "language": "python",
   "name": "python3"
  },
  "language_info": {
   "codemirror_mode": {
    "name": "ipython",
    "version": 3
   },
   "file_extension": ".py",
   "mimetype": "text/x-python",
   "name": "python",
   "nbconvert_exporter": "python",
   "pygments_lexer": "ipython3",
   "version": "3.12.6"
  }
 },
 "nbformat": 4,
 "nbformat_minor": 5
}
