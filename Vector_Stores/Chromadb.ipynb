{
 "cells": [
  {
   "cell_type": "markdown",
   "id": "b7cdb3db",
   "metadata": {},
   "source": [
    "## Chroma\n",
    "\n",
    "Chroma is an AI-native open-source vector database focused on developer productivity and happiness."
   ]
  },
  {
   "cell_type": "code",
   "execution_count": 1,
   "id": "81e5eb25",
   "metadata": {},
   "outputs": [],
   "source": [
    "from langchain_chroma import Chroma\n",
    "from langchain_community.document_loaders import TextLoader\n",
    "from langchain_community.embeddings import OllamaEmbeddings\n",
    "from langchain_text_splitters import RecursiveCharacterTextSplitter"
   ]
  },
  {
   "cell_type": "code",
   "execution_count": 2,
   "id": "84820a00",
   "metadata": {},
   "outputs": [
    {
     "data": {
      "text/plain": [
       "[Document(metadata={'source': 'data/about.txt'}, page_content='Cricket is a bat-and-ball game that is played between two teams of eleven players on a field, at the centre of which is a 22-yard (20-metre; 66-foot) pitch with a wicket at each end, each comprising two bails (small sticks) balanced on three stumps. Two players from the batting team, the striker and nonstriker, stand in front of either wicket holding bats, while one player from the fielding team, the bowler, bowls the ball toward the striker\\'s wicket from the opposite end of the pitch. The striker\\'s goal is to hit the bowled ball with the bat and then switch places with the nonstriker, with the batting team scoring one run for each of these swaps. Runs are also scored when the ball reaches the boundary of the field or when the ball is bowled illegally.\\n\\nThe fielding team aims to prevent runs by dismissing batters (so they are \"out\"). Dismissal can occur in various ways, including being bowled (when the ball hits the striker\\'s wicket and dislodges the bails), and by the fielding side either catching the ball after it is hit by the bat but before it hits the ground, or hitting a wicket with the ball before a batter can cross the crease line in front of the wicket. When ten batters have been dismissed, the innings (playing phase) ends and the teams swap roles. Forms of cricket range from traditional Test matches played over five days to the newer Twenty20 format (also known as T20), in which each team bats for a single innings of 20 overs (each \"over\" being a set of 6 fair opportunities for the batting team to score) and the game generally lasts three to four hours.\\n\\nTraditionally, cricketers play in all-white kit, but in limited overs cricket, they wear club or team colours. In addition to the basic kit, some players wear protective gear to prevent injury caused by the ball, which is a hard, solid spheroid made of compressed leather with a slightly raised sewn seam enclosing a cork core layered with tightly wound string.\\n\\nThe earliest known definite reference to cricket is to it being played in South East England in the mid-16th century. It spread globally with the expansion of the British Empire, with the first international matches in the second half of the 19th century. The game\\'s governing body is the International Cricket Council (ICC), which has over 100 members, twelve of which are full members who play Test matches. The game\\'s rules, the Laws of Cricket, are maintained by Marylebone Cricket Club (MCC) in London. The sport is followed primarily in South Asia, Australia, New Zealand, the United Kingdom, Southern Africa, and the West Indies.[2]\\n\\nWhile traditionally, cricket has largely been played by men, Women\\'s cricket has experienced large growth in the 21st century.[3]\\n\\nThe most successful side playing international cricket is Australia, which has won eight One Day International trophies, including six World Cups, more than any other country, and has been the top-rated Test side more than any other country.')]"
      ]
     },
     "execution_count": 2,
     "metadata": {},
     "output_type": "execute_result"
    }
   ],
   "source": [
    "loader = TextLoader(\"data/about.txt\")\n",
    "data = loader.load()\n",
    "data"
   ]
  },
  {
   "cell_type": "code",
   "execution_count": 3,
   "id": "c44048d4",
   "metadata": {},
   "outputs": [
    {
     "data": {
      "text/plain": [
       "[Document(metadata={'source': 'data/about.txt'}, page_content='Cricket is a bat-and-ball game that is played between two teams of eleven players on a field, at the centre of which is a 22-yard (20-metre; 66-foot)'),\n",
       " Document(metadata={'source': 'data/about.txt'}, page_content='66-foot) pitch with a wicket at each end, each comprising two bails (small sticks) balanced on three stumps. Two players from the batting team, the'),\n",
       " Document(metadata={'source': 'data/about.txt'}, page_content='team, the striker and nonstriker, stand in front of either wicket holding bats, while one player from the fielding team, the bowler, bowls the ball'),\n",
       " Document(metadata={'source': 'data/about.txt'}, page_content=\"the ball toward the striker's wicket from the opposite end of the pitch. The striker's goal is to hit the bowled ball with the bat and then switch\"),\n",
       " Document(metadata={'source': 'data/about.txt'}, page_content='switch places with the nonstriker, with the batting team scoring one run for each of these swaps. Runs are also scored when the ball reaches the'),\n",
       " Document(metadata={'source': 'data/about.txt'}, page_content='the boundary of the field or when the ball is bowled illegally.'),\n",
       " Document(metadata={'source': 'data/about.txt'}, page_content='The fielding team aims to prevent runs by dismissing batters (so they are \"out\"). Dismissal can occur in various ways, including being bowled (when'),\n",
       " Document(metadata={'source': 'data/about.txt'}, page_content=\"(when the ball hits the striker's wicket and dislodges the bails), and by the fielding side either catching the ball after it is hit by the bat but\"),\n",
       " Document(metadata={'source': 'data/about.txt'}, page_content='bat but before it hits the ground, or hitting a wicket with the ball before a batter can cross the crease line in front of the wicket. When ten'),\n",
       " Document(metadata={'source': 'data/about.txt'}, page_content='When ten batters have been dismissed, the innings (playing phase) ends and the teams swap roles. Forms of cricket range from traditional Test matches'),\n",
       " Document(metadata={'source': 'data/about.txt'}, page_content='matches played over five days to the newer Twenty20 format (also known as T20), in which each team bats for a single innings of 20 overs (each \"over\"'),\n",
       " Document(metadata={'source': 'data/about.txt'}, page_content='\"over\" being a set of 6 fair opportunities for the batting team to score) and the game generally lasts three to four hours.'),\n",
       " Document(metadata={'source': 'data/about.txt'}, page_content='Traditionally, cricketers play in all-white kit, but in limited overs cricket, they wear club or team colours. In addition to the basic kit, some'),\n",
       " Document(metadata={'source': 'data/about.txt'}, page_content='kit, some players wear protective gear to prevent injury caused by the ball, which is a hard, solid spheroid made of compressed leather with a'),\n",
       " Document(metadata={'source': 'data/about.txt'}, page_content='with a slightly raised sewn seam enclosing a cork core layered with tightly wound string.'),\n",
       " Document(metadata={'source': 'data/about.txt'}, page_content='The earliest known definite reference to cricket is to it being played in South East England in the mid-16th century. It spread globally with the'),\n",
       " Document(metadata={'source': 'data/about.txt'}, page_content=\"with the expansion of the British Empire, with the first international matches in the second half of the 19th century. The game's governing body is\"),\n",
       " Document(metadata={'source': 'data/about.txt'}, page_content=\"body is the International Cricket Council (ICC), which has over 100 members, twelve of which are full members who play Test matches. The game's\"),\n",
       " Document(metadata={'source': 'data/about.txt'}, page_content=\"game's rules, the Laws of Cricket, are maintained by Marylebone Cricket Club (MCC) in London. The sport is followed primarily in South Asia,\"),\n",
       " Document(metadata={'source': 'data/about.txt'}, page_content='Asia, Australia, New Zealand, the United Kingdom, Southern Africa, and the West Indies.[2]'),\n",
       " Document(metadata={'source': 'data/about.txt'}, page_content=\"While traditionally, cricket has largely been played by men, Women's cricket has experienced large growth in the 21st century.[3]\"),\n",
       " Document(metadata={'source': 'data/about.txt'}, page_content='The most successful side playing international cricket is Australia, which has won eight One Day International trophies, including six World Cups,'),\n",
       " Document(metadata={'source': 'data/about.txt'}, page_content='Cups, more than any other country, and has been the top-rated Test side more than any other country.')]"
      ]
     },
     "execution_count": 3,
     "metadata": {},
     "output_type": "execute_result"
    }
   ],
   "source": [
    "text_splitter = RecursiveCharacterTextSplitter(chunk_size=150,chunk_overlap=10)\n",
    "splits = text_splitter.split_documents(data)\n",
    "splits"
   ]
  },
  {
   "cell_type": "code",
   "execution_count": 4,
   "id": "1b684473",
   "metadata": {},
   "outputs": [
    {
     "name": "stderr",
     "output_type": "stream",
     "text": [
      "C:\\Users\\SRIDATTA CHARAN\\AppData\\Local\\Temp\\ipykernel_28540\\1538452700.py:1: LangChainDeprecationWarning: The class `OllamaEmbeddings` was deprecated in LangChain 0.3.1 and will be removed in 1.0.0. An updated version of the class exists in the :class:`~langchain-ollama package and should be used instead. To use it run `pip install -U :class:`~langchain-ollama` and import as `from :class:`~langchain_ollama import OllamaEmbeddings``.\n",
      "  embeddings = OllamaEmbeddings(model=\"gemma:2b\")\n"
     ]
    },
    {
     "data": {
      "text/plain": [
       "<langchain_chroma.vectorstores.Chroma at 0x211ad84c9e0>"
      ]
     },
     "execution_count": 4,
     "metadata": {},
     "output_type": "execute_result"
    }
   ],
   "source": [
    "embeddings = OllamaEmbeddings(model=\"gemma:2b\")\n",
    "vectordb = Chroma.from_documents(splits,embeddings)\n",
    "vectordb"
   ]
  },
  {
   "cell_type": "code",
   "execution_count": 5,
   "id": "3fe499a8",
   "metadata": {},
   "outputs": [
    {
     "data": {
      "text/plain": [
       "'Cups, more than any other country, and has been the top-rated Test side more than any other country.'"
      ]
     },
     "execution_count": 5,
     "metadata": {},
     "output_type": "execute_result"
    }
   ],
   "source": [
    "query = \"Where is the sport primarily followed\"\n",
    "docs = vectordb.similarity_search(query)\n",
    "docs[0].page_content"
   ]
  },
  {
   "cell_type": "markdown",
   "id": "2df52adf",
   "metadata": {},
   "source": [
    "### Saving the database and loading from local"
   ]
  },
  {
   "cell_type": "code",
   "execution_count": 6,
   "id": "6e0913a3",
   "metadata": {},
   "outputs": [],
   "source": [
    "vectordb = Chroma.from_documents(splits,embeddings,persist_directory=\"./chroma_db\")"
   ]
  },
  {
   "cell_type": "code",
   "execution_count": 7,
   "id": "b97dd7f1",
   "metadata": {},
   "outputs": [
    {
     "name": "stdout",
     "output_type": "stream",
     "text": [
      "Cups, more than any other country, and has been the top-rated Test side more than any other country.\n"
     ]
    }
   ],
   "source": [
    "# Loading\n",
    "db2 = Chroma(persist_directory=\"./chroma_db\",embedding_function=embeddings)\n",
    "docs = db2.similarity_search(query)\n",
    "print(docs[0].page_content)"
   ]
  },
  {
   "cell_type": "code",
   "execution_count": 8,
   "id": "bf641896",
   "metadata": {},
   "outputs": [
    {
     "name": "stdout",
     "output_type": "stream",
     "text": [
      "(Document(id='19019b29-41df-4cea-9ef9-402c548187fa', metadata={'source': 'data/about.txt'}, page_content='Cups, more than any other country, and has been the top-rated Test side more than any other country.'), 2738.2666015625)\n"
     ]
    }
   ],
   "source": [
    "docs_with_score = db2.similarity_search_with_score(query)\n",
    "print(docs_with_score[0])"
   ]
  },
  {
   "cell_type": "markdown",
   "id": "0b0820a4",
   "metadata": {},
   "source": [
    "### Chroma DB as retriever"
   ]
  },
  {
   "cell_type": "code",
   "execution_count": 10,
   "id": "88e7631e",
   "metadata": {},
   "outputs": [
    {
     "data": {
      "text/plain": [
       "'Cups, more than any other country, and has been the top-rated Test side more than any other country.'"
      ]
     },
     "execution_count": 10,
     "metadata": {},
     "output_type": "execute_result"
    }
   ],
   "source": [
    "retriever = vectordb.as_retriever()\n",
    "retriever.invoke(query)[0].page_content"
   ]
  }
 ],
 "metadata": {
  "kernelspec": {
   "display_name": "env",
   "language": "python",
   "name": "python3"
  },
  "language_info": {
   "codemirror_mode": {
    "name": "ipython",
    "version": 3
   },
   "file_extension": ".py",
   "mimetype": "text/x-python",
   "name": "python",
   "nbconvert_exporter": "python",
   "pygments_lexer": "ipython3",
   "version": "3.12.6"
  }
 },
 "nbformat": 4,
 "nbformat_minor": 5
}
