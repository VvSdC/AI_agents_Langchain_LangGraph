{
 "cells": [
  {
   "cell_type": "markdown",
   "id": "2e6f3db1",
   "metadata": {},
   "source": [
    "### Data Transformation\n",
    "\n",
    "This step in RAG (Retrieval Augmented Generation) involves converting huge data into smaller text chunks"
   ]
  },
  {
   "cell_type": "code",
   "execution_count": 1,
   "id": "fea477af",
   "metadata": {},
   "outputs": [
    {
     "data": {
      "text/plain": [
       "[Document(metadata={'producer': 'PyFPDF 1.7.2 http://pyfpdf.googlecode.com/', 'creator': 'PyPDF', 'creationdate': 'D:20250609032520', 'source': 'data/cricket.pdf', 'total_pages': 1, 'page': 0, 'page_label': '1'}, page_content=\"Cricket: A Gentleman's Game\\nCricket is a bat-and-ball game played between two teams of eleven players on a field at the center\\nof which is a 22-yard pitch with a wicket at each end. \\nThe game has its origins in 16th-century England and has evolved into a global sport, particularly\\npopular in countries like India, Australia, England, Pakistan, and South Africa.\\nThere are different formats of cricket, including Test matches, One Day Internationals (ODIs), and\\nTwenty20 (T20) games. Each format has its own charm, with Test matches known for their strategic\\ndepth, ODIs for balanced gameplay, and T20s for fast-paced entertainment.\\nKey players in the history of cricket include legends such as Sachin Tendulkar, Don Bradman,\\nMuttiah Muralitharan, and Jacques Kallis. Today, the sport continues to grow, with leagues like the\\nIndian Premier League (IPL) bringing new excitement and global viewership.\\nCricket is not just a game but a passion for millions. From gully cricket in the streets to packed\\ninternational stadiums, the spirit of the game unites fans around the world.\\nPage 1\")]"
      ]
     },
     "execution_count": 1,
     "metadata": {},
     "output_type": "execute_result"
    }
   ],
   "source": [
    "# Load data \n",
    "from langchain_community.document_loaders import PyPDFLoader\n",
    "loader = PyPDFLoader(\"data/cricket.pdf\")\n",
    "docs = loader.load()\n",
    "docs"
   ]
  },
  {
   "cell_type": "markdown",
   "id": "8f5a30bb",
   "metadata": {},
   "source": [
    "### Recursive Character Text splitter\n",
    "\n",
    "In this we generally give two parameters which are : <br>\n",
    "\n",
    "<b>Chunk_size</b>: Maximum character length of each chunk. <br>\n",
    "<b>Chink_overlap</b>: Number of characters in previous chunk that will be repeated in the current chunk."
   ]
  },
  {
   "cell_type": "code",
   "execution_count": 5,
   "id": "c61803d7",
   "metadata": {},
   "outputs": [
    {
     "data": {
      "text/plain": [
       "[Document(metadata={'producer': 'PyFPDF 1.7.2 http://pyfpdf.googlecode.com/', 'creator': 'PyPDF', 'creationdate': 'D:20250609032520', 'source': 'data/cricket.pdf', 'total_pages': 1, 'page': 0, 'page_label': '1'}, page_content=\"Cricket: A Gentleman's Game\"),\n",
       " Document(metadata={'producer': 'PyFPDF 1.7.2 http://pyfpdf.googlecode.com/', 'creator': 'PyPDF', 'creationdate': 'D:20250609032520', 'source': 'data/cricket.pdf', 'total_pages': 1, 'page': 0, 'page_label': '1'}, page_content='Cricket is a bat-and-ball game played between two teams of eleven players on a field at the center'),\n",
       " Document(metadata={'producer': 'PyFPDF 1.7.2 http://pyfpdf.googlecode.com/', 'creator': 'PyPDF', 'creationdate': 'D:20250609032520', 'source': 'data/cricket.pdf', 'total_pages': 1, 'page': 0, 'page_label': '1'}, page_content='of which is a 22-yard pitch with a wicket at each end.'),\n",
       " Document(metadata={'producer': 'PyFPDF 1.7.2 http://pyfpdf.googlecode.com/', 'creator': 'PyPDF', 'creationdate': 'D:20250609032520', 'source': 'data/cricket.pdf', 'total_pages': 1, 'page': 0, 'page_label': '1'}, page_content='The game has its origins in 16th-century England and has evolved into a global sport, particularly'),\n",
       " Document(metadata={'producer': 'PyFPDF 1.7.2 http://pyfpdf.googlecode.com/', 'creator': 'PyPDF', 'creationdate': 'D:20250609032520', 'source': 'data/cricket.pdf', 'total_pages': 1, 'page': 0, 'page_label': '1'}, page_content='popular in countries like India, Australia, England, Pakistan, and South Africa.'),\n",
       " Document(metadata={'producer': 'PyFPDF 1.7.2 http://pyfpdf.googlecode.com/', 'creator': 'PyPDF', 'creationdate': 'D:20250609032520', 'source': 'data/cricket.pdf', 'total_pages': 1, 'page': 0, 'page_label': '1'}, page_content='There are different formats of cricket, including Test matches, One Day Internationals (ODIs), and'),\n",
       " Document(metadata={'producer': 'PyFPDF 1.7.2 http://pyfpdf.googlecode.com/', 'creator': 'PyPDF', 'creationdate': 'D:20250609032520', 'source': 'data/cricket.pdf', 'total_pages': 1, 'page': 0, 'page_label': '1'}, page_content='Twenty20 (T20) games. Each format has its own charm, with Test matches known for their strategic'),\n",
       " Document(metadata={'producer': 'PyFPDF 1.7.2 http://pyfpdf.googlecode.com/', 'creator': 'PyPDF', 'creationdate': 'D:20250609032520', 'source': 'data/cricket.pdf', 'total_pages': 1, 'page': 0, 'page_label': '1'}, page_content='depth, ODIs for balanced gameplay, and T20s for fast-paced entertainment.'),\n",
       " Document(metadata={'producer': 'PyFPDF 1.7.2 http://pyfpdf.googlecode.com/', 'creator': 'PyPDF', 'creationdate': 'D:20250609032520', 'source': 'data/cricket.pdf', 'total_pages': 1, 'page': 0, 'page_label': '1'}, page_content='Key players in the history of cricket include legends such as Sachin Tendulkar, Don Bradman,'),\n",
       " Document(metadata={'producer': 'PyFPDF 1.7.2 http://pyfpdf.googlecode.com/', 'creator': 'PyPDF', 'creationdate': 'D:20250609032520', 'source': 'data/cricket.pdf', 'total_pages': 1, 'page': 0, 'page_label': '1'}, page_content='Muttiah Muralitharan, and Jacques Kallis. Today, the sport continues to grow, with leagues like the'),\n",
       " Document(metadata={'producer': 'PyFPDF 1.7.2 http://pyfpdf.googlecode.com/', 'creator': 'PyPDF', 'creationdate': 'D:20250609032520', 'source': 'data/cricket.pdf', 'total_pages': 1, 'page': 0, 'page_label': '1'}, page_content='Indian Premier League (IPL) bringing new excitement and global viewership.'),\n",
       " Document(metadata={'producer': 'PyFPDF 1.7.2 http://pyfpdf.googlecode.com/', 'creator': 'PyPDF', 'creationdate': 'D:20250609032520', 'source': 'data/cricket.pdf', 'total_pages': 1, 'page': 0, 'page_label': '1'}, page_content='Cricket is not just a game but a passion for millions. From gully cricket in the streets to packed'),\n",
       " Document(metadata={'producer': 'PyFPDF 1.7.2 http://pyfpdf.googlecode.com/', 'creator': 'PyPDF', 'creationdate': 'D:20250609032520', 'source': 'data/cricket.pdf', 'total_pages': 1, 'page': 0, 'page_label': '1'}, page_content='international stadiums, the spirit of the game unites fans around the world.\\nPage 1')]"
      ]
     },
     "execution_count": 5,
     "metadata": {},
     "output_type": "execute_result"
    }
   ],
   "source": [
    "# Split_documents => Reading from list of documents\n",
    "from langchain_text_splitters import RecursiveCharacterTextSplitter\n",
    "\n",
    "text_splitter = RecursiveCharacterTextSplitter(chunk_size=100,chunk_overlap=15)\n",
    "split_documents = text_splitter.split_documents(docs)\n",
    "split_documents"
   ]
  },
  {
   "cell_type": "code",
   "execution_count": 10,
   "id": "ed237001",
   "metadata": {},
   "outputs": [
    {
     "data": {
      "text/plain": [
       "[Document(metadata={}, page_content=\"Cricket: A Gentleman's Game\"),\n",
       " Document(metadata={}, page_content='Cricket is a bat-and-ball game played between two'),\n",
       " Document(metadata={}, page_content='between two teams of eleven players on a field at'),\n",
       " Document(metadata={}, page_content='on a field at the center'),\n",
       " Document(metadata={}, page_content='of which is a 22-yard pitch with a wicket at each'),\n",
       " Document(metadata={}, page_content='wicket at each end.'),\n",
       " Document(metadata={}, page_content='The game has its origins in 16th-century England'),\n",
       " Document(metadata={}, page_content='England and has evolved into a global sport,'),\n",
       " Document(metadata={}, page_content='global sport, particularly'),\n",
       " Document(metadata={}, page_content='popular in countries like India, Australia,'),\n",
       " Document(metadata={}, page_content='Australia, England, Pakistan, and South Africa.'),\n",
       " Document(metadata={}, page_content='There are different formats of cricket, including'),\n",
       " Document(metadata={}, page_content='including Test matches, One Day Internationals'),\n",
       " Document(metadata={}, page_content='Internationals (ODIs), and'),\n",
       " Document(metadata={}, page_content='Twenty20 (T20) games. Each format has its own'),\n",
       " Document(metadata={}, page_content='has its own charm, with Test matches known for'),\n",
       " Document(metadata={}, page_content='known for their strategic'),\n",
       " Document(metadata={}, page_content='depth, ODIs for balanced gameplay, and T20s for'),\n",
       " Document(metadata={}, page_content='and T20s for fast-paced entertainment.'),\n",
       " Document(metadata={}, page_content='Key players in the history of cricket include'),\n",
       " Document(metadata={}, page_content='include legends such as Sachin Tendulkar, Don'),\n",
       " Document(metadata={}, page_content='Tendulkar, Don Bradman,'),\n",
       " Document(metadata={}, page_content='Muttiah Muralitharan, and Jacques Kallis. Today,'),\n",
       " Document(metadata={}, page_content='Kallis. Today, the sport continues to grow, with'),\n",
       " Document(metadata={}, page_content='to grow, with leagues like the'),\n",
       " Document(metadata={}, page_content='Indian Premier League (IPL) bringing new'),\n",
       " Document(metadata={}, page_content='bringing new excitement and global viewership.'),\n",
       " Document(metadata={}, page_content='Cricket is not just a game but a passion for'),\n",
       " Document(metadata={}, page_content='a passion for millions. From gully cricket in the'),\n",
       " Document(metadata={}, page_content='cricket in the streets to packed'),\n",
       " Document(metadata={}, page_content='international stadiums, the spirit of the game'),\n",
       " Document(metadata={}, page_content='of the game unites fans around the world.'),\n",
       " Document(metadata={}, page_content='Page 1')]"
      ]
     },
     "execution_count": 10,
     "metadata": {},
     "output_type": "execute_result"
    }
   ],
   "source": [
    "# create_documents => Creating split documents from simple text\n",
    "\n",
    "import fitz  # PyMuPDF\n",
    "\n",
    "# Extract text from PDF\n",
    "cricket_data = \"\"\n",
    "with fitz.open(\"data/cricket.pdf\") as pdf:\n",
    "    for page in pdf:\n",
    "        cricket_data += page.get_text()\n",
    "\n",
    "# Split text into chunks\n",
    "text_splitter = RecursiveCharacterTextSplitter(chunk_size=50, chunk_overlap=15)\n",
    "split_documents = text_splitter.create_documents([cricket_data])\n",
    "split_documents  \n"
   ]
  }
 ],
 "metadata": {
  "kernelspec": {
   "display_name": "env",
   "language": "python",
   "name": "python3"
  },
  "language_info": {
   "codemirror_mode": {
    "name": "ipython",
    "version": 3
   },
   "file_extension": ".py",
   "mimetype": "text/x-python",
   "name": "python",
   "nbconvert_exporter": "python",
   "pygments_lexer": "ipython3",
   "version": "3.12.6"
  }
 },
 "nbformat": 4,
 "nbformat_minor": 5
}
