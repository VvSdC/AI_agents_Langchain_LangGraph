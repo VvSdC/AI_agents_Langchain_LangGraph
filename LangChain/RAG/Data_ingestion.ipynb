{
 "cells": [
  {
   "cell_type": "markdown",
   "id": "09ccfc68",
   "metadata": {},
   "source": [
    "# Langchain Document loaders\n",
    "\n",
    "Reference => https://python.langchain.com/docs/integrations/document_loaders/"
   ]
  },
  {
   "cell_type": "markdown",
   "id": "2275e7d7",
   "metadata": {},
   "source": [
    "##### Text Loader"
   ]
  },
  {
   "cell_type": "code",
   "execution_count": 1,
   "id": "b0f66bb7",
   "metadata": {},
   "outputs": [
    {
     "data": {
      "text/plain": [
       "<langchain_community.document_loaders.text.TextLoader at 0x21e81004050>"
      ]
     },
     "execution_count": 1,
     "metadata": {},
     "output_type": "execute_result"
    }
   ],
   "source": [
    "from langchain_community.document_loaders import TextLoader\n",
    "loader = TextLoader(\"data/charan.txt\")\n",
    "loader"
   ]
  },
  {
   "cell_type": "code",
   "execution_count": 2,
   "id": "6af84cd7",
   "metadata": {},
   "outputs": [
    {
     "data": {
      "text/plain": [
       "[Document(metadata={'source': 'data/charan.txt'}, page_content=\"Welcome to my GitHub!\\n\\nLet me briefly introduce myself.\\nI am Vummethala Venkata Sri Datta Charan. I completed my Bachelor's degree in Computer Science and Engineering at PDPM IIITDM Jabalpur, graduating in 2024. During my time at the institute, I gained a solid understanding of databases and worked with both front-end and back-end technologies such as React, Next.js, JavaScript, and Node.js. I have built some amazing applications using these technologies.\\n\\nAfter graduation, I joined Infosys as a Specialist Programmer. There, I had the opportunity to learn and work on Generative AI and Responsible AI principles, including safety, security, privacy, explainability, bias, and transparency. I feel privileged to work in such a high-demand and future-focused domain.\\n\\nRegarding my JEE journey, I secured a 98.97 percentile in JEE Main with an All India Rank of 11,627. I also qualified JEE Advanced with a score of 37% and achieved a rank of around 12,000.\")]"
      ]
     },
     "execution_count": 2,
     "metadata": {},
     "output_type": "execute_result"
    }
   ],
   "source": [
    "text_documents = loader.load()\n",
    "text_documents"
   ]
  },
  {
   "cell_type": "markdown",
   "id": "ca9bf832",
   "metadata": {},
   "source": [
    "##### PyPDFLoader"
   ]
  },
  {
   "cell_type": "code",
   "execution_count": 3,
   "id": "da666b49",
   "metadata": {},
   "outputs": [],
   "source": [
    "from langchain_community.document_loaders import PyPDFLoader\n",
    "loader = PyPDFLoader(\"data/charan.pdf\")"
   ]
  },
  {
   "cell_type": "code",
   "execution_count": 4,
   "id": "47abc155",
   "metadata": {},
   "outputs": [
    {
     "data": {
      "text/plain": [
       "[Document(metadata={'producer': 'Microsoft® Word 2021', 'creator': 'Microsoft® Word 2021', 'creationdate': '2025-05-30T15:52:28+05:30', 'author': 'VUMMETHALA VENKATA SRI DATTA CHARAN', 'moddate': '2025-05-30T15:52:28+05:30', 'source': 'data/charan.pdf', 'total_pages': 1, 'page': 0, 'page_label': '1'}, page_content=\"Welcome to my GitHub! \\n \\nLet me briefly introduce myself. \\nI am Vummethala Venkata Sri Datta Charan. I completed my Bachelor's degree in Computer Science \\nand Engineering at PDPM IIITDM Jabalpur, graduating in 2024. During my time at the institute, I \\ngained a solid understanding of databases and worked with both front-end and back-end \\ntechnologies such as React, Next.js, JavaScript, and Node.js. I have built some amazing applications \\nusing these technologies. \\n \\nAfter graduation, I joined Infosys as a Specialist Programmer. There, I had the opportunity to learn \\nand work on Generative AI and Responsible AI principles, including safety, security, privacy, \\nexplainability, bias, and transparency. I feel privileged to work in such a high-demand and future-\\nfocused domain. \\n \\nRegarding my JEE journey, I secured a 98.97 percentile in JEE Main with an All India Rank of 11,627. I \\nalso qualified JEE Advanced with a score of 37% and achieved a rank of around 12,000.\")]"
      ]
     },
     "execution_count": 4,
     "metadata": {},
     "output_type": "execute_result"
    }
   ],
   "source": [
    "documents = loader.load()\n",
    "documents"
   ]
  },
  {
   "cell_type": "markdown",
   "id": "94d179a9",
   "metadata": {},
   "source": [
    "##### Web based Loader"
   ]
  },
  {
   "cell_type": "code",
   "execution_count": 5,
   "id": "2a9ce810",
   "metadata": {},
   "outputs": [
    {
     "name": "stderr",
     "output_type": "stream",
     "text": [
      "USER_AGENT environment variable not set, consider setting it to identify your requests.\n"
     ]
    }
   ],
   "source": [
    "from langchain_community.document_loaders import WebBaseLoader\n",
    "loader = WebBaseLoader(web_paths=(\"https://medium.com/@vipra_singh/ai-agents-introduction-part-1-fbec7edb857d\",),)"
   ]
  },
  {
   "cell_type": "code",
   "execution_count": 6,
   "id": "465f0c7f",
   "metadata": {},
   "outputs": [
    {
     "data": {
      "text/plain": [
       "[Document(metadata={'source': 'https://medium.com/@vipra_singh/ai-agents-introduction-part-1-fbec7edb857d', 'title': 'AI Agents: Introduction (Part-1). Discover AI agents, their design, and… | by Vipra Singh | Medium', 'description': '· 1. From LLMs to AI agents\\n ∘ 1.1 Traditional chatbots to LLM-powered chatbots\\n ∘ 1.2 Introduction of LLM-Powered Chatbots\\n ∘ 1.3 From LLM-Powered Chatbots to RAG Chatbots and AI Agents\\n· 2. What…', 'language': 'en'}, page_content='AI Agents: Introduction (Part-1). Discover AI agents, their design, and… | by Vipra Singh | MediumSitemapOpen in appSign upSign inMedium LogoWriteSign upSign inMember-only storyAI Agents: Introduction (Part-1)Vipra SinghFollow13 min read·Feb 2, 2025--52ShareDiscover AI agents, their design, and real-world applications.Posts in this SeriesIntroduction (This Post)Build an Agent from ScratchAI Agent FrameworksTypes of AI AgentsWorkflow vs AgentAgent ArchitecturesMulti-Agent ArchitecturesBuilding Multi-Agent SystemShort-Term and Long-Term MemoryAgentic RAGAgentic GuardrailsModel Context Protocol (MCP)EvaluationTable of Contents· 1. From LLMs to AI agents ∘ 1.1 Traditional chatbots to LLM-powered chatbots ∘ 1.2 Introduction of LLM-Powered Chatbots ∘ 1.3 From LLM-Powered Chatbots to RAG Chatbots and AI Agents· 2. What are AI agents? ∘ 2.1 Characteristics of AI Agents· 3. Core Components of AI Agents ∘ 3.1 Perception (Sensors) ∘ 3.2 Reasoning (Processor) ∘ 3.3 Action (Actuators) ∘ 3.4 Knowledge Base ∘ 3.5 Learning ∘ 3.6 Communication Interface· 4. How AI Agents Interact with Their Environment ∘ 4.1 Perception Phase ∘ 4.2 Decision Phase ∘ 4.3 Action Phase· 5. How AI Agents Function? ∘ 5.1 Orchestration layer (The Control Center) ∘ 5.2 Models (The Brain) ∘ 5.3 Tools (The Hands)· 6. ✅ When to use agents / ⛔ When to avoid them· 7. Application Areas· 8. ConclusionAI has taken a giant leap forward with the advent of Large Language Models (LLMs). These powerful systems have revolutionized natural language processing, but their true potential is unleashed when combined with agency — the ability to reason, plan, and act autonomously. This is where LLM Agents come into play, representing a paradigm shift in how we interact with and utilize AI.----52FollowWritten by Vipra Singh8.8K followers·12 followingFollowResponses (52)See all responsesHelpStatusAboutCareersPressBlogPrivacyRulesTermsText to speech\\n\\n\\n\\n\\n\\n\\n\\n\\n\\n\\n\\n\\n\\n\\n\\n\\n\\n\\n\\n\\n\\n\\n\\n\\n\\n\\n\\n\\n\\n\\n\\n\\n\\n\\n')]"
      ]
     },
     "execution_count": 6,
     "metadata": {},
     "output_type": "execute_result"
    }
   ],
   "source": [
    "web_documents = loader.load()\n",
    "web_documents"
   ]
  }
 ],
 "metadata": {
  "kernelspec": {
   "display_name": "env",
   "language": "python",
   "name": "python3"
  },
  "language_info": {
   "codemirror_mode": {
    "name": "ipython",
    "version": 3
   },
   "file_extension": ".py",
   "mimetype": "text/x-python",
   "name": "python",
   "nbconvert_exporter": "python",
   "pygments_lexer": "ipython3",
   "version": "3.12.6"
  }
 },
 "nbformat": 4,
 "nbformat_minor": 5
}
