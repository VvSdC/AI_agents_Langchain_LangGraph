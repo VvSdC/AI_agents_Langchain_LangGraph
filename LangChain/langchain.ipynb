{
 "cells": [
  {
   "cell_type": "markdown",
   "id": "fdb8a3a3",
   "metadata": {},
   "source": [
    "### Getting started with LangChain\n",
    "\n",
    "- Using most basic and common components of LangChain like prompt template, models and output parsers.\n",
    "- Building a simple application with LangChain.\n",
    "- Tracing the application with LangSmith\n",
    "- Serving application with LangServe"
   ]
  },
  {
   "cell_type": "code",
   "execution_count": null,
   "id": "1ed311f4",
   "metadata": {
    "vscode": {
     "languageId": "plaintext"
    }
   },
   "outputs": [],
   "source": []
  }
 ],
 "metadata": {
  "language_info": {
   "name": "python"
  }
 },
 "nbformat": 4,
 "nbformat_minor": 5
}
